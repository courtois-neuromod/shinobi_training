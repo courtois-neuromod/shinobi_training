{
 "cells": [
  {
   "cell_type": "code",
   "execution_count": 3,
   "metadata": {},
   "outputs": [
    {
     "name": "stderr",
     "output_type": "stream",
     "text": [
      "/home/hyruuk/mambaforge/envs/shinobi/lib/python3.7/site-packages/tqdm/auto.py:21: TqdmWarning: IProgress not found. Please update jupyter and ipywidgets. See https://ipywidgets.readthedocs.io/en/stable/user_install.html\n",
      "  from .autonotebook import tqdm as notebook_tqdm\n"
     ]
    },
    {
     "name": "stdout",
     "output_type": "stream",
     "text": [
      "sub-01 level-1\n",
      "1550181462.0\n",
      "sub-01 level-4\n",
      "1567804045.0\n",
      "sub-01 level-5\n",
      "1567805200.0\n",
      "sub-02 level-1\n",
      "1562278107.0\n",
      "sub-02 level-4\n",
      "1577471070.0\n",
      "sub-02 level-5\n",
      "1583173704.0\n",
      "sub-04 level-1\n",
      "1582497836.0\n",
      "sub-04 level-4\n",
      "1582824762.0\n",
      "sub-04 level-5\n",
      "1587171246.0\n",
      "sub-06 level-1\n",
      "1580570960.0\n",
      "sub-06 level-4\n",
      "1587666563.0\n",
      "sub-06 level-5\n",
      "1587671200.0\n"
     ]
    }
   ],
   "source": [
    "# Find timestamps of the first real rep of each level and each subject\n",
    "\n",
    "import glob\n",
    "import json\n",
    "import os.path as op\n",
    "import retro\n",
    "from bids_loader.stimuli.game import get_variables_from_replay\n",
    "import warnings\n",
    "warnings.filterwarnings(\"ignore\")\n",
    "\n",
    "replayfile_list = sorted(glob.glob(op.join('/home/hyruuk/GitHub/neuromod/shinobi_fmri/data/shinobi_training', \"*\", \"*\", \"*\", \"*.bk2\")))\n",
    "\n",
    "for subject in ['sub-01', 'sub-02', 'sub-04', 'sub-06']:\n",
    "    for level in ['level-1', 'level-4', 'level-5']:\n",
    "        replays_filtered = [x for x in replayfile_list if subject in x and level in x]\n",
    "        first_replay_idx = 0\n",
    "        real_replay_found = False\n",
    "        while real_replay_found == False:\n",
    "            try:\n",
    "                curr_replay = replays_filtered[first_replay_idx]\n",
    "                repvars = get_variables_from_replay(curr_replay, skip_first_step=False, save_gif=True, game=\"ShinobiIIIReturnOfTheNinjaMaster-Genesis\", inttype=retro.data.Integrations.STABLE)\n",
    "                if repvars['score'][-1] > 200:\n",
    "                    real_replay_found = True\n",
    "                else:\n",
    "                    first_replay_idx += 1\n",
    "            except:\n",
    "                first_replay_idx += 1\n",
    "                \n",
    "        first_replay = replays_filtered[first_replay_idx]\n",
    "        # Load json sidecar of the first replay\n",
    "        with open(first_replay.replace(\".bk2\", \".json\"), \"r\") as infile:\n",
    "            json_dict = json.load(infile)\n",
    "        print(subject, level)\n",
    "        print(json_dict['LevelStartTimestamp'])"
   ]
  },
  {
   "cell_type": "code",
   "execution_count": null,
   "metadata": {},
   "outputs": [],
   "source": []
  }
 ],
 "metadata": {
  "kernelspec": {
   "display_name": "shinobi2",
   "language": "python",
   "name": "python3"
  },
  "language_info": {
   "codemirror_mode": {
    "name": "ipython",
    "version": 3
   },
   "file_extension": ".py",
   "mimetype": "text/x-python",
   "name": "python",
   "nbconvert_exporter": "python",
   "pygments_lexer": "ipython3",
   "version": "3.7.0"
  },
  "orig_nbformat": 4
 },
 "nbformat": 4,
 "nbformat_minor": 2
}
